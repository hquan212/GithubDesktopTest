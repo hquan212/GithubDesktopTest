{
 "cells": [
  {
   "cell_type": "markdown",
   "metadata": {},
   "source": [
    "# Quick Intro\n",
    "\n",
    "* Robert Quan\n",
    "    * Data Science tutor for cohort 05. Cross cohort now.\n",
    "    * Currently working as a Machine Learning Engineer in Houston and have experience working as a Data Scientist / Data Engineer / Software Engineer.\n",
    "    * Undergrad in Physics and Masters in CS from Texas A&M.\n",
    "    \n",
    "\n",
    "### Overview:\n",
    "1. Jupyter Notebook Tutorial\n",
    "1. Git and Github Tutorial (how to upload to github)\n",
    "1. Lambda Functions tutorial\n",
    "\n",
    "***"
   ]
  },
  {
   "cell_type": "markdown",
   "metadata": {},
   "source": [
    "# Jupyter Notebook Tutorial"
   ]
  },
  {
   "cell_type": "markdown",
   "metadata": {},
   "source": [
    "**What is Jupyter Notebook?**\n",
    "\n",
    "> Jupyter notebooks is an integrated code display that outputs in a single document python code to combine visualizations, text, math equations and other media. Think of it as an advanced word processor.\n",
    "\n",
    "**Where did it come from?**\n",
    "\n",
    "> Project Jupyter is built off of the earlier IPython Notebook, which was prototyped in 2010. The Jupyter Project now is responsible for updating the Jupyter Notebook application.\n",
    "\n",
    "**How can I download it?**\n",
    "\n",
    "> Google up Anaconda, a window manager that contains a lot of helpful Data Science software, and install from there.\n",
    "\n",
    "**I cant see a screen, can I uses a terminal shell to run?**\n",
    "\n",
    "> just run > jupyter notebook | > ipython notebook\n",
    "\n",
    "**What is the localhost:8888 for this notebook?**\n",
    "\n",
    "> localhost means that the application is running on your *local* machine. It is a server that is hosted from your machine and can be viewed in chrome, firefox, safari, ie. etc. \n",
    "\n",
    "**What is an .ipynb File?**\n",
    "\n",
    "> This is the notebook saved file on your machine. Techincally this is a text document which contains all of the contents of the notebook in a JSON format.\n",
    "\n",
    "**Show commands for notebook**\n",
    "\n",
    "> Press *Cntrl + Shift + p* all together to list commands"
   ]
  },
  {
   "cell_type": "markdown",
   "metadata": {},
   "source": [
    "***\n",
    "### Terminology\n",
    "\n",
    "**Cells** : Sections where to write code or text inside of the notebook. Code Cell / Markdown Cell\n",
    "\n",
    "**Kernel** : The Kernel is the computation engine of the notebook. This engine executes the python code in the cells.\n",
    "\n",
    "**Markdown**: lightweight markup language for formatting plain text. It has a one-to-one correspondance with HTML tags. \n",
    "\n",
    "### Shortcuts\n",
    "\n",
    "> - To quickly run cell press Shift + Enter to execute cell. \n",
    "- Press A or B to insert new cell above or below current cell.\n",
    "- Press M to transform cell to Markdown cell.\n",
    "- Press Y to tranfsform to code cell.\n",
    "- Double click D to delte the highlighted cell.\n",
    "- Z will undo deletion.\n",
    "- Hold Shift and press up or down to select multiple cells at one. \n"
   ]
  },
  {
   "cell_type": "markdown",
   "metadata": {},
   "source": [
    "# This is a level 1 heading\n",
    "## This is a level 2 heading\n",
    "### level 3\n",
    "#### level 4\n",
    "This is some plain text that forms a paragraph.\n",
    "Add emphasis via **bold** and __bold__, or *italic* and _italic_.\n",
    "\n",
    "\n",
    "Paragraphs must be separated by an empty line.\n",
    "\n",
    "* Sometimes we want to include lists.\n",
    "* Which can be indented.\n",
    "- adding a new line or bullet point\n",
    "\n",
    "\n",
    "`-` this is not in the line - here\n",
    "\n",
    "1. Lists can also be numbered.\n",
    "1. For ordered lists.\n",
    "\n",
    "[It is possible to include hyperlinks](https://www.google.com)\n",
    "\n",
    "Inline code uses single backticks: `foo()`, and code blocks use triple backticks:\n",
    "\n",
    "```\n",
    "def foo(x):\n",
    "    return x*x\n",
    "    \n",
    "    - try this\n",
    "\n",
    "for num in numbers:\n",
    "    print(foo(num))   \n",
    "```\n",
    "\n",
    "\n",
    "And finally, adding images is easy: ![Alt text](https://miro.medium.com/max/3000/1*mzciQ4zYi3-j3EONuyGnrg.png)"
   ]
  },
  {
   "cell_type": "markdown",
   "metadata": {},
   "source": [
    "<div class=\"alert alert-block alert-success\">\n",
    "<b>Success:</b> This section is now colored green\n",
    "</div>\n",
    "\n",
    "<div class=\"alert alert-block alert-warning\">\n",
    "<b>Remarks: </b> if I can give some recommendations\n",
    "</div>\n",
    "\n",
    "<div class=\"alert alert-block alert-danger\">\n",
    "<b>Needs fixing:</b> if the block requires some corrections. Work can't be accepted with red comments.\n",
    "</div>\n",
    "\n",
    "<div class=\"alert alert-block alert-info\">\n",
    "<b>Tip:</b> Use blue boxes (alert-info) for tips and notes. \n",
    "If it’s a note, you don’t have to include the word “Note”.\n",
    "</div>\n",
    "\n",
    "__[More info on alert boxes](https://www.ibm.com/support/knowledgecenter/SSHGWL_1.2.3/analyze-data/markd-jupyter.html)__"
   ]
  },
  {
   "cell_type": "markdown",
   "metadata": {},
   "source": [
    "### Magic Commands\n",
    "> Since jupyter relies on Ipython, you can use the magic commands. These comamnds are basically using the underlying python shell to work in the environment. \n",
    "\n",
    "```\n",
    "Just type:\n",
    "> %ls\n",
    "> %cd ..\n",
    "> %env\n",
    "> %lsmagic\n",
    "> %pwd\n",
    "> %timeit\n",
    "```\n",
    "> The timeit magic command will execute your code various times and calculates an average time execution. Very important if you want to optimize your code. This is where correct data structures will come into play. [%timeit](https://docs.python.org/3/library/timeit.html)\n",
    "\n",
    "You can export these notebooks as HTML, pdf, or even as python code. \n",
    "\n",
    "__[Read more](https://www.dataquest.io/blog/jupyter-notebook-tutorial/)__"
   ]
  },
  {
   "cell_type": "code",
   "execution_count": 22,
   "metadata": {},
   "outputs": [
    {
     "name": "stdout",
     "output_type": "stream",
     "text": [
      "23 µs ± 2.35 µs per loop (mean ± std. dev. of 7 runs, 10000 loops each)\n"
     ]
    }
   ],
   "source": [
    "%timeit for _ in range(1000): True"
   ]
  },
  {
   "cell_type": "markdown",
   "metadata": {},
   "source": [
    "***"
   ]
  },
  {
   "cell_type": "markdown",
   "metadata": {},
   "source": [
    "# Git and Github Tutorial\n",
    "\n",
    "**What is git**  [Download Git](https://git-scm.com/)\n",
    "> Git a a version control system. It tracks your code changes and set \"checkpoitns\". It is very important for software development and completely free. You can do the following with git: \n",
    "- Keep track of all files in a project\n",
    "- Record any changes to project files\n",
    "- Restore previous versions of files\n",
    "- Compare and analyze code\n",
    "- Merge code from different computers and different team members.\n",
    "\n",
    "**What is github**\n",
    "> A microsoft free online git repository system. Many coders can connect and download git projects.\n",
    "\n",
    "**How does git work?**\n",
    "> By setting up a repository (group of folders or one folder) as a git folder, you are esentially telling git to track every saved changed in your code and save only the differences between commits. By doing this, you can allow multiple people to work together on one large project, or add individual changes to your code and track those changes. \n",
    "\n",
    "![GIt](https://external-content.duckduckgo.com/iu/?u=https%3A%2F%2Fi.ytimg.com%2Fvi%2FAN7Rue-4aMo%2Fmaxresdefault.jpg&f=1&nofb=1)"
   ]
  },
  {
   "cell_type": "markdown",
   "metadata": {},
   "source": [
    "## Git demo\n",
    "\n",
    "```\n",
    "git config --global user.name \"Robert Quan\"\n",
    "git config --global user.email robertquan@example.com\n",
    "\n",
    "git init\n",
    "git status\n",
    "git checkout -b \"new branch\"\n",
    "git checkout master\n",
    "\n",
    "git add .\n",
    "git commit -m \"master\"\n",
    "\n",
    "git remote add origin https://github.com/USER/PROJECTNAME.git\n",
    "git remote -v\n",
    "git push -u origin master\n",
    "\n",
    "```"
   ]
  },
  {
   "cell_type": "markdown",
   "metadata": {},
   "source": [
    "This is a change for git to find and pick up."
   ]
  },
  {
   "cell_type": "markdown",
   "metadata": {},
   "source": [
    "***"
   ]
  },
  {
   "cell_type": "markdown",
   "metadata": {},
   "source": [
    "## Lambda Functions:\n",
    "\n",
    "> Lambda functions are also known as anonymous functions. They are regular functions that do not have to be defined and are used only during that execution.  An anonymous function refers to a function declared with no name.\n",
    "- A lambda function can take any number of arguments, but they contain only a single expression. An expression is a piece of code executed by the lambda function, which may or may not return any value.\n",
    "- Lambda functions can be used to return function objects.\n",
    "- Syntactically, lambda functions are restricted to only a single expression.\n",
    "\n",
    "> Lambda arguments : expression\n",
    "\n",
    "[More on Lambda Functions](https://stackabuse.com/lambda-functions-in-python/)"
   ]
  },
  {
   "cell_type": "code",
   "execution_count": 28,
   "metadata": {},
   "outputs": [
    {
     "name": "stdout",
     "output_type": "stream",
     "text": [
      "this is a test\n",
      "['adam', 'bernard', 'carlos']\n",
      "['adam', 'bernard', 'carlos']\n",
      "['adam', 'bernard', 'carlos']\n"
     ]
    }
   ],
   "source": [
    "def lowercase(string):\n",
    "    return string.lower()\n",
    "\n",
    "print(lowercase(\"THIS is A Test\"))\n",
    "\n",
    "names = [\"Adam\", \"Bernard\", \"Carlos\"]\n",
    "res = []\n",
    "\n",
    "for name in names:\n",
    "    res.append(lowercase(name))\n",
    "print(res)\n",
    "\n",
    "print(list(map(lambda x: lowercase(x), names)))\n",
    "\n",
    "print([lowercase(x) for x in names])"
   ]
  },
  {
   "cell_type": "code",
   "execution_count": 31,
   "metadata": {},
   "outputs": [
    {
     "name": "stdout",
     "output_type": "stream",
     "text": [
      "6\n",
      "8\n"
     ]
    }
   ],
   "source": [
    "function = lambda num: num * 2\n",
    "\n",
    "print(function(3))\n",
    "\n",
    "def function2(num):\n",
    "    return num*2\n",
    "\n",
    "print(function2(4))"
   ]
  },
  {
   "cell_type": "code",
   "execution_count": null,
   "metadata": {},
   "outputs": [],
   "source": []
  }
 ],
 "metadata": {
  "kernelspec": {
   "display_name": "Python 3",
   "language": "python",
   "name": "python3"
  },
  "language_info": {
   "codemirror_mode": {
    "name": "ipython",
    "version": 3
   },
   "file_extension": ".py",
   "mimetype": "text/x-python",
   "name": "python",
   "nbconvert_exporter": "python",
   "pygments_lexer": "ipython3",
   "version": "3.8.3"
  }
 },
 "nbformat": 4,
 "nbformat_minor": 4
}
